{
  "nbformat": 4,
  "nbformat_minor": 0,
  "metadata": {
    "colab": {
      "provenance": [],
      "include_colab_link": true
    },
    "kernelspec": {
      "name": "python3",
      "display_name": "Python 3"
    },
    "language_info": {
      "name": "python"
    }
  },
  "cells": [
    {
      "cell_type": "markdown",
      "metadata": {
        "id": "view-in-github",
        "colab_type": "text"
      },
      "source": [
        "<a href=\"https://colab.research.google.com/github/ACHMADIFANPRATAMA/Overloading/blob/main/Tugas_Overloading_2.ipynb\" target=\"_parent\"><img src=\"https://colab.research.google.com/assets/colab-badge.svg\" alt=\"Open In Colab\"/></a>"
      ]
    },
    {
      "cell_type": "code",
      "execution_count": 8,
      "metadata": {
        "id": "5zCytCeM1uD4"
      },
      "outputs": [],
      "source": [
        "#class Nama\n",
        "class Nama:\n",
        "  def kalimat(self, namadepan = \"\", namatengah = \"\", namatengah2 = \"\", namaakhir = \"\"):\n",
        "    print(namadepan + namatengah + namatengah2 + namaakhir)\n",
        "#Buat fungsi yang digunakan untuk mengabungkan nama dengan ketentuan nama depan, nama tengah, nama akhir, dan seterusnya dianggap 1 (satu) parameter"
      ]
    },
    {
      "cell_type": "code",
      "source": [
        "#Buat main program\n",
        "coba = Nama()\n",
        "\n",
        "coba.kalimat(\"Achmad\", \" Ifan\", \" Pratama\")\n",
        "coba.kalimat(\"Rexza\", \" Arya\", \" Ananda\", \" Lubis\")\n",
        "coba.kalimat(\"Harun\", \" Surya\", \" Wibawa\")\n",
        "coba.kalimat(\"Irsyad\", \" Riski\", \" Widodo\")\n",
        "#Panggil fungsi untuk membuat nama lengkap 4 nama teman kalian"
      ],
      "metadata": {
        "id": "liQBcJWZ12MN",
        "outputId": "619a3d1d-51dd-4cca-8c13-537d6230a3b3",
        "colab": {
          "base_uri": "https://localhost:8080/"
        }
      },
      "execution_count": 15,
      "outputs": [
        {
          "output_type": "stream",
          "name": "stdout",
          "text": [
            "Achmad Ifan Pratama\n",
            "Rexza Arya Ananda Lubis\n",
            "Harun Surya Wibawa\n",
            "Irsyad Riski Widodo\n"
          ]
        }
      ]
    },
    {
      "cell_type": "code",
      "source": [
        "kesimpulan dari konsep overloading bahwa class di atas yang bernama class nama memiliki fungsi overloading yang diamana menggabungkan kata per kata\n",
        "cara bekerjanya adalah fungsi tersebut mempunyai 4 parameter yang bernama (namadepan,namatengah,namatengah2,namaakhir) dan fungsi tersebut bisa menggabungkan parameter dengan parameter lainnya tanpa adanya perulangan\n",
        "\n",
        "contoh:jika parameter tersebut bernama namadepan dan parameter tersebut diisi menjadi \"achmad\" dan parameter2 bernama namatengah dan diisi \"ifan\" maka output nya menjadi achmad ifan"
      ],
      "metadata": {
        "id": "xwFmppIG3JGE"
      },
      "execution_count": null,
      "outputs": []
    }
  ]
}